{
 "cells": [
  {
   "cell_type": "code",
   "execution_count": 1,
   "id": "94d5723d-4ccc-4def-b5e4-ed6e4db4321c",
   "metadata": {
    "tags": []
   },
   "outputs": [
    {
     "name": "stdout",
     "output_type": "stream",
     "text": [
      "[0.] [[1.]]\n",
      "[[ 6.]\n",
      " [ 7.]\n",
      " [ 8.]\n",
      " [ 9.]\n",
      " [10.]]\n"
     ]
    }
   ],
   "source": [
    "import numpy as np\n",
    "import matplotlib.pyplot as plot\n",
    "from sklearn.linear_model import LinearRegression\n",
    "\n",
    "numarray = np.array([[0, 0], [1, 1], [2, 2], [3, 3], [4, 4], [5, 5]])\n",
    "\n",
    "lr = LinearRegression()\n",
    "lr.fit(numarray[:, 0].reshape(-1, 1), numarray[:, 1].reshape(-1, 1))\n",
    "\n",
    "# printing coefficients\n",
    "print(lr.intercept_, lr.coef_)\n",
    "\n",
    "x_predict = np.array([6, 7, 8, 9, 10])\n",
    "\n",
    "y_predict = lr.predict(x_predict.reshape(-1, 1))\n",
    "print(y_predict)"
   ]
  },
  {
   "cell_type": "code",
   "execution_count": 2,
   "id": "b39bcaff-e2b7-4747-9ef9-fedad23670d6",
   "metadata": {
    "tags": []
   },
   "outputs": [
    {
     "name": "stdout",
     "output_type": "stream",
     "text": [
      "[1.] [[1.]]\n",
      "[[ 7.]\n",
      " [ 8.]\n",
      " [ 9.]\n",
      " [10.]\n",
      " [11.]]\n"
     ]
    }
   ],
   "source": [
    "import numpy as np\n",
    "import matplotlib.pyplot as plot\n",
    "from sklearn.linear_model import LinearRegression\n",
    "\n",
    "numarray = np.array([[0, 1], [1, 2], [2, 3], [3, 4], [4, 5], [5, 6]])\n",
    "\n",
    "lr = LinearRegression()\n",
    "lr.fit(numarray[:, 0].reshape(-1, 1), numarray[:, 1].reshape(-1, 1))\n",
    "\n",
    "# printing coefficients\n",
    "print(lr.intercept_, lr.coef_)\n",
    "\n",
    "x_predict = np.array([6, 7, 8, 9, 10])\n",
    "\n",
    "y_predict = lr.predict(x_predict.reshape(-1, 1))\n",
    "print(y_predict)"
   ]
  },
  {
   "cell_type": "code",
   "execution_count": 3,
   "id": "019b65b4-734a-4028-8311-28ac9b2fa1b4",
   "metadata": {
    "tags": []
   },
   "outputs": [
    {
     "name": "stdout",
     "output_type": "stream",
     "text": [
      "[2.] [[1.]]\n",
      "[[ 8.]\n",
      " [ 9.]\n",
      " [10.]\n",
      " [11.]\n",
      " [12.]]\n"
     ]
    }
   ],
   "source": [
    "import numpy as np\n",
    "import matplotlib.pyplot as plot\n",
    "from sklearn.linear_model import LinearRegression\n",
    "\n",
    "numarray = np.array([[0, 2], [1, 3], [2, 4], [3, 5], [4, 6], [5, 7]])\n",
    "\n",
    "lr = LinearRegression()\n",
    "lr.fit(numarray[:, 0].reshape(-1, 1), numarray[:, 1].reshape(-1, 1))\n",
    "\n",
    "# printing coefficients\n",
    "print(lr.intercept_, lr.coef_)\n",
    "\n",
    "x_predict = np.array([6, 7, 8, 9, 10])\n",
    "\n",
    "y_predict = lr.predict(x_predict.reshape(-1, 1))\n",
    "print(y_predict)"
   ]
  },
  {
   "cell_type": "code",
   "execution_count": 4,
   "id": "071773ef-d768-4edb-ba23-aa8f315bbfc8",
   "metadata": {
    "tags": []
   },
   "outputs": [
    {
     "data": {
      "text/plain": [
       "array([ 6, 11, 16, 12, 17, 22])"
      ]
     },
     "execution_count": 4,
     "metadata": {},
     "output_type": "execute_result"
    }
   ],
   "source": [
    "numarray1 = np.array([[0, 1], [1, 2], [2, 3], [3, 1], [4, 2], [5, 3]])\n",
    "numarray2 = np.array([[6], [11], [16], [12], [17], [22]])\n",
    "\n",
    "y = np.dot(numarray1, [2, 3]) + 3\n",
    "y"
   ]
  },
  {
   "cell_type": "code",
   "execution_count": 5,
   "id": "19a652cf-9aad-47b2-bfe0-96c70e2f550d",
   "metadata": {
    "tags": []
   },
   "outputs": [
    {
     "name": "stdout",
     "output_type": "stream",
     "text": [
      "[3.] [[2. 3.]]\n",
      "[[15.]\n",
      " [20.]\n",
      " [22.]\n",
      " [21.]\n",
      " [23.]]\n"
     ]
    }
   ],
   "source": [
    "import numpy as np\n",
    "import matplotlib.pyplot as plot\n",
    "from sklearn.linear_model import LinearRegression\n",
    "\n",
    "y = numarray2\n",
    "\n",
    "lr = LinearRegression()\n",
    "lr.fit(numarray1, numarray2.reshape(-1, 1))\n",
    "\n",
    "# printing coefficients\n",
    "print(lr.intercept_, lr.coef_)\n",
    "\n",
    "x_predict = np.array([[6, 0], [7, 1], [8, 1], [9, 0], [10, 0]])\n",
    "\n",
    "y_predict = lr.predict(x_predict)\n",
    "print(y_predict)"
   ]
  },
  {
   "cell_type": "code",
   "execution_count": 6,
   "id": "a7c5700b-b729-4a0a-ac41-9e0587b21fe4",
   "metadata": {
    "tags": []
   },
   "outputs": [
    {
     "name": "stdout",
     "output_type": "stream",
     "text": [
      "[-3.33333333] [[5.]]\n",
      "[[26.66666667]\n",
      " [31.66666667]\n",
      " [36.66666667]\n",
      " [41.66666667]\n",
      " [46.66666667]]\n"
     ]
    }
   ],
   "source": [
    "import numpy as np\n",
    "import matplotlib.pyplot as plot\n",
    "from sklearn.linear_model import LinearRegression\n",
    "\n",
    "numarray = np.array([[0, 0], [1, 1], [2, 4], [3, 9], [4, 16], [5, 25]])\n",
    "\n",
    "lr = LinearRegression()\n",
    "lr.fit(numarray[:, 0].reshape(-1, 1), numarray[:, 1].reshape(-1, 1))\n",
    "\n",
    "# printing coefficients\n",
    "print(lr.intercept_, lr.coef_)\n",
    "\n",
    "x_predict = np.array([6, 7, 8, 9, 10])\n",
    "\n",
    "y_predict = lr.predict(x_predict.reshape(-1, 1))\n",
    "print(y_predict)"
   ]
  },
  {
   "cell_type": "code",
   "execution_count": 8,
   "id": "bc1dd6a8-e9a4-4923-8ba1-f23c3ce8c057",
   "metadata": {
    "tags": []
   },
   "outputs": [
    {
     "name": "stdout",
     "output_type": "stream",
     "text": [
      "['1' 'x0' 'x0^2']\n",
      "[-3.55271368e-15] [[0.0000000e+00 8.8817842e-16 1.0000000e+00]]\n",
      "[[ 36.]\n",
      " [ 49.]\n",
      " [ 64.]\n",
      " [ 81.]\n",
      " [100.]]\n"
     ]
    }
   ],
   "source": [
    "import numpy as np\n",
    "import matplotlib.pyplot as plot\n",
    "from sklearn.linear_model import LinearRegression\n",
    "from sklearn.preprocessing import PolynomialFeatures\n",
    "\n",
    "numarray = np.array([[0, 0], [1, 1], [2, 4], [3, 9], [4, 16], [5, 25]])\n",
    "\n",
    "# using polynomial features\n",
    "pf = PolynomialFeatures(degree=2)\n",
    "x_poly = pf.fit_transform(numarray[:, 0].reshape(-1, 1))\n",
    "lr = LinearRegression()\n",
    "lr.fit(x_poly, numarray[:, 1].reshape(-1, 1))\n",
    "\n",
    "# printing coefficients\n",
    "print(pf.get_feature_names_out())\n",
    "print(lr.intercept_, lr.coef_)\n",
    "\n",
    "x_predict = np.array([6, 7, 8, 9, 10])\n",
    "\n",
    "y_predict = lr.predict(pf.fit_transform(x_predict.reshape(-1, 1)))\n",
    "print(y_predict)"
   ]
  },
  {
   "cell_type": "code",
   "execution_count": 10,
   "id": "365b76b2-36ca-43e6-9f61-ad72a305f21a",
   "metadata": {
    "tags": []
   },
   "outputs": [
    {
     "name": "stdout",
     "output_type": "stream",
     "text": [
      "['1' 'x0' 'x0^2']\n",
      "[1.] [[0. 1. 1.]]\n",
      "[[ 43.]\n",
      " [ 57.]\n",
      " [ 73.]\n",
      " [ 91.]\n",
      " [111.]]\n"
     ]
    }
   ],
   "source": [
    "import numpy as np\n",
    "import matplotlib.pyplot as plot\n",
    "from sklearn.linear_model import LinearRegression\n",
    "from sklearn.preprocessing import PolynomialFeatures\n",
    "\n",
    "numarray = np.array([[0, 1], [1, 3], [2, 7], [3, 13], [4, 21], [5, 31]])\n",
    "\n",
    "# using polynomial features\n",
    "pf = PolynomialFeatures(degree=2)\n",
    "x_poly = pf.fit_transform(numarray[:, 0].reshape(-1, 1))\n",
    "lr = LinearRegression()\n",
    "lr.fit(x_poly, numarray[:, 1].reshape(-1, 1))\n",
    "\n",
    "# printing coefficients\n",
    "print(pf.get_feature_names_out())\n",
    "print(lr.intercept_, lr.coef_)\n",
    "\n",
    "x_predict = np.array([6, 7, 8, 9, 10])\n",
    "\n",
    "y_predict = lr.predict(pf.fit_transform(x_predict.reshape(-1, 1)))\n",
    "\n",
    "# features\n",
    "print(y_predict)"
   ]
  },
  {
   "cell_type": "code",
   "execution_count": 11,
   "id": "eaf2f21f-123e-4ace-ae5f-2033425debba",
   "metadata": {
    "tags": []
   },
   "outputs": [
    {
     "name": "stdout",
     "output_type": "stream",
     "text": [
      "['1' 'x0' 'x0^2' 'x0^3']\n",
      "[2.13162821e-14] [[ 0.00000000e+00 -7.66053887e-15  3.02632546e-15  1.00000000e+00]]\n",
      "[[ 216.]\n",
      " [ 343.]\n",
      " [ 512.]\n",
      " [ 729.]\n",
      " [1000.]]\n"
     ]
    }
   ],
   "source": [
    "import numpy as np\n",
    "import matplotlib.pyplot as plot\n",
    "from sklearn.linear_model import LinearRegression\n",
    "from sklearn.preprocessing import PolynomialFeatures\n",
    "\n",
    "numarray = np.array([[0, 0], [1, 1], [2, 8], [3, 27], [4, 64], [5, 125]])\n",
    "\n",
    "# using polynomial features\n",
    "pf = PolynomialFeatures(degree=3)\n",
    "x_poly = pf.fit_transform(numarray[:, 0].reshape(-1, 1))\n",
    "lr = LinearRegression()\n",
    "lr.fit(x_poly, numarray[:, 1].reshape(-1, 1))\n",
    "\n",
    "# printing coefficients\n",
    "print(pf.get_feature_names_out())\n",
    "print(lr.intercept_, lr.coef_)\n",
    "\n",
    "x_predict = np.array([6, 7, 8, 9, 10])\n",
    "\n",
    "y_predict = lr.predict(pf.fit_transform(x_predict.reshape(-1, 1)))\n",
    "print(y_predict)"
   ]
  },
  {
   "cell_type": "code",
   "execution_count": 12,
   "id": "87cad8c7-02f7-41c8-866f-267a4a34b2fa",
   "metadata": {
    "tags": []
   },
   "outputs": [
    {
     "data": {
      "text/plain": [
       "<AxesSubplot: xlabel='year', ylabel='population'>"
      ]
     },
     "execution_count": 12,
     "metadata": {},
     "output_type": "execute_result"
    },
    {
     "data": {
      "image/png": "[encoded data removed]",
      "text/plain": [
       "<Figure size 640x480 with 1 Axes>"
      ]
     },
     "metadata": {},
     "output_type": "display_data"
    }
   ],
   "source": [
    "import numpy as np\n",
    "import matplotlib.pyplot as plot\n",
    "import pandas as pd\n",
    "\n",
    "dataset = np.loadtxt(\n",
    "    \"../../data/population.csv\",\n",
    "    dtype={\"names\": (\"year\", \"population\"), \"formats\": (\"i4\", \"i\")},\n",
    "    skiprows=1,\n",
    "    delimiter=\",\",\n",
    "    encoding=\"UTF-8\",\n",
    ")\n",
    "\n",
    "df = pd.DataFrame(dataset)\n",
    "df.plot(x=\"year\", y=\"population\", kind=\"scatter\")"
   ]
  },
  {
   "cell_type": "code",
   "execution_count": 13,
   "id": "808d5013-efcf-4810-a621-e90f7c2d6b2c",
   "metadata": {
    "tags": []
   },
   "outputs": [
    {
     "name": "stdout",
     "output_type": "stream",
     "text": [
      "[-5.86674085e+08] [[324065.22138837]]\n"
     ]
    },
    {
     "data": {
      "image/png": "[encoded data removed]",
      "text/plain": [
       "<Figure size 640x480 with 1 Axes>"
      ]
     },
     "metadata": {},
     "output_type": "display_data"
    }
   ],
   "source": [
    "import numpy as np\n",
    "import matplotlib.pyplot as plot\n",
    "import pandas as pd\n",
    "from sklearn.linear_model import LinearRegression\n",
    "\n",
    "dataset = np.loadtxt(\n",
    "    \"../../data/population.csv\",\n",
    "    dtype={\"names\": (\"year\", \"population\"), \"formats\": (\"i4\", \"i\")},\n",
    "    skiprows=1,\n",
    "    delimiter=\",\",\n",
    "    encoding=\"UTF-8\",\n",
    ")\n",
    "\n",
    "df = pd.DataFrame(dataset[4:])\n",
    "\n",
    "# training data\n",
    "x_train = df[\"year\"][:40].values.reshape(-1, 1)\n",
    "y_train = df[\"population\"][:40].values.reshape(-1, 1)\n",
    "\n",
    "# training\n",
    "lr = LinearRegression()\n",
    "lr.fit(x_train, y_train)\n",
    "\n",
    "# printing coefficients\n",
    "print(lr.intercept_, lr.coef_)\n",
    "\n",
    "# prediction\n",
    "x_predict = x_train = df[\"year\"][41:].values.reshape(-1, 1)\n",
    "y_actual = df[\"population\"][41:].values.reshape(-1, 1)\n",
    "y_predict = lr.predict(x_predict)\n",
    "\n",
    "plot.scatter(x_predict, y_actual)\n",
    "plot.plot(x_predict, y_predict, color=\"red\", linewidth=2)\n",
    "plot.show()"
   ]
  },
  {
   "cell_type": "code",
   "execution_count": 14,
   "id": "26009fd5-24c8-4193-b715-fdf428af2776",
   "metadata": {
    "tags": []
   },
   "outputs": [
    {
     "name": "stdout",
     "output_type": "stream",
     "text": [
      "[-5.86674085e+08] [[324065.22138837]]\n"
     ]
    },
    {
     "data": {
      "image/png": "[encoded data removed]",
      "text/plain": [
       "<Figure size 640x480 with 1 Axes>"
      ]
     },
     "metadata": {},
     "output_type": "display_data"
    }
   ],
   "source": [
    "import numpy as np\n",
    "import matplotlib.pyplot as plot\n",
    "import pandas as pd\n",
    "from sklearn.linear_model import LinearRegression\n",
    "\n",
    "dataset = np.loadtxt(\n",
    "    \"../../data/population.csv\",\n",
    "    dtype={\"names\": (\"year\", \"population\"), \"formats\": (\"i4\", \"i\")},\n",
    "    skiprows=1,\n",
    "    delimiter=\",\",\n",
    "    encoding=\"UTF-8\",\n",
    ")\n",
    "\n",
    "df = pd.DataFrame(dataset[4:])\n",
    "\n",
    "# training data\n",
    "x_train = df[\"year\"][:40].values.reshape(-1, 1)\n",
    "y_train = df[\"population\"][:40].values.reshape(-1, 1)\n",
    "\n",
    "# training\n",
    "lr = LinearRegression()\n",
    "lr.fit(x_train, y_train)\n",
    "\n",
    "# printing coefficients\n",
    "print(lr.intercept_, lr.coef_)\n",
    "\n",
    "# prediction\n",
    "x_predict = x_train = df[\"year\"][:].values.reshape(-1, 1)\n",
    "y_actual = df[\"population\"][:].values.reshape(-1, 1)\n",
    "y_predict = lr.predict(x_predict)\n",
    "\n",
    "plot.scatter(x_predict, y_actual)\n",
    "plot.plot(x_predict, y_predict, color=\"red\", linewidth=2)\n",
    "plot.show()"
   ]
  },
  {
   "cell_type": "code",
   "execution_count": 16,
   "id": "332bc404-b43a-48cf-9440-6ea834172194",
   "metadata": {
    "tags": []
   },
   "outputs": [
    {
     "name": "stdout",
     "output_type": "stream",
     "text": [
      "[-4.30491266e+09] [[ 0.00000000e+00  4.06776344e+06 -9.42279929e+02]]\n"
     ]
    },
    {
     "data": {
      "image/png": "[encoded data removed]",
      "text/plain": [
       "<Figure size 640x480 with 1 Axes>"
      ]
     },
     "metadata": {},
     "output_type": "display_data"
    }
   ],
   "source": [
    "import numpy as np\n",
    "import matplotlib.pyplot as plot\n",
    "import pandas as pd\n",
    "from sklearn.linear_model import LinearRegression\n",
    "from sklearn.preprocessing import PolynomialFeatures\n",
    "\n",
    "dataset = np.loadtxt(\n",
    "    \"../../data/population.csv\",\n",
    "    dtype={\"names\": (\"year\", \"population\"), \"formats\": (\"i4\", \"i\")},\n",
    "    skiprows=1,\n",
    "    delimiter=\",\",\n",
    "    encoding=\"UTF-8\",\n",
    ")\n",
    "\n",
    "df = pd.DataFrame(dataset[4:])\n",
    "\n",
    "# training data\n",
    "\n",
    "x_train = df[\"year\"][:50].values.reshape(-1, 1)\n",
    "y_train = df[\"population\"][:50].values.reshape(-1, 1)\n",
    "\n",
    "pf = PolynomialFeatures(degree=2)\n",
    "x_poly = pf.fit_transform(x_train)\n",
    "\n",
    "# training\n",
    "lr = LinearRegression()\n",
    "lr.fit(x_poly, y_train)\n",
    "\n",
    "# printing coefficients\n",
    "print(lr.intercept_, lr.coef_)\n",
    "\n",
    "# prediction\n",
    "x_predict = x_train = df[\"year\"][41:].values.reshape(-1, 1)\n",
    "y_actual = df[\"population\"][41:].values.reshape(-1, 1)\n",
    "y_predict = lr.predict(pf.fit_transform(x_predict))\n",
    "\n",
    "plot.scatter(x_predict, y_actual)\n",
    "plot.plot(x_predict, y_predict, color=\"red\", linewidth=2)\n",
    "plot.show()"
   ]
  },
  {
   "cell_type": "code",
   "execution_count": 17,
   "id": "0a65e791-87b2-4ccd-8b4a-1414045e82d7",
   "metadata": {
    "tags": []
   },
   "outputs": [
    {
     "name": "stdout",
     "output_type": "stream",
     "text": [
      "[7.53637479e+09] [[ 0.00000000e+00 -7.89980194e+06  2.08142727e+03]]\n"
     ]
    },
    {
     "data": {
      "image/png": "[encoded data removed]",
      "text/plain": [
       "<Figure size 640x480 with 1 Axes>"
      ]
     },
     "metadata": {},
     "output_type": "display_data"
    }
   ],
   "source": [
    "import numpy as np\n",
    "import matplotlib.pyplot as plot\n",
    "import pandas as pd\n",
    "from sklearn.linear_model import LinearRegression\n",
    "from sklearn.preprocessing import PolynomialFeatures\n",
    "\n",
    "dataset = np.loadtxt(\n",
    "    \"../../data/population.csv\",\n",
    "    dtype={\"names\": (\"year\", \"population\"), \"formats\": (\"i4\", \"i\")},\n",
    "    skiprows=1,\n",
    "    delimiter=\",\",\n",
    "    encoding=\"UTF-8\",\n",
    ")\n",
    "\n",
    "df = pd.DataFrame(dataset)\n",
    "\n",
    "# training data\n",
    "\n",
    "x_train = df[\"year\"][:40].values.reshape(-1, 1)\n",
    "y_train = df[\"population\"][:40].values.reshape(-1, 1)\n",
    "\n",
    "pf = PolynomialFeatures(degree=2)\n",
    "x_poly = pf.fit_transform(x_train)\n",
    "\n",
    "# training\n",
    "lr = LinearRegression()\n",
    "lr.fit(x_poly, y_train)\n",
    "\n",
    "# printing coefficients\n",
    "print(lr.intercept_, lr.coef_)\n",
    "\n",
    "# prediction\n",
    "x_predict = x_train = df[\"year\"][41:].values.reshape(-1, 1)\n",
    "\n",
    "# Let's add some more years\n",
    "x_predict = np.append(range(1900, 1959), x_predict)\n",
    "x_predict = x_predict.reshape(-1, 1)\n",
    "\n",
    "y_actual = df[\"population\"][41:].values.reshape(-1, 1)\n",
    "y_predict = lr.predict(pf.fit_transform(x_predict))\n",
    "\n",
    "plot.scatter(df[\"year\"], df[\"population\"])\n",
    "plot.plot(x_predict, y_predict, color=\"red\", linewidth=2)\n",
    "plot.show()"
   ]
  },
  {
   "cell_type": "code",
   "execution_count": 18,
   "id": "4e8ad8de-34a0-4c55-8da0-5e3921c23b60",
   "metadata": {
    "tags": []
   },
   "outputs": [
    {
     "name": "stdout",
     "output_type": "stream",
     "text": [
      "[0 1]\n"
     ]
    }
   ],
   "source": [
    "import numpy as np\n",
    "import matplotlib.pyplot as plot\n",
    "from sklearn.linear_model import Perceptron\n",
    "\n",
    "numarray = np.array(\n",
    "    [\n",
    "        [0, 0, 0, 0],\n",
    "        [0, 0, 0, 1],\n",
    "        [0, 0, 1, 0],\n",
    "        [0, 0, 1, 1],\n",
    "        [0, 1, 0, 0],\n",
    "        [0, 1, 0, 1],\n",
    "        [0, 1, 1, 0],\n",
    "        [0, 1, 1, 1],\n",
    "        [1, 0, 0, 0],\n",
    "        [1, 0, 0, 1],\n",
    "        [1, 0, 1, 0],\n",
    "        [1, 0, 1, 1],\n",
    "        [1, 1, 0, 0],\n",
    "        [1, 1, 0, 1],\n",
    "        [1, 1, 1, 0],\n",
    "        [1, 1, 1, 1],\n",
    "    ]\n",
    ")\n",
    "result = np.array([0, 0, 0, 0, 0, 0, 0, 0, 1, 1, 1, 1, 1, 1, 1, 1])\n",
    "\n",
    "perceptron = Perceptron(max_iter=1000)\n",
    "perceptron.fit(numarray, result)\n",
    "\n",
    "x_predict = np.array([[0, 1, 0, 1], [1, 0, 1, 1]])\n",
    "\n",
    "y_predict = perceptron.predict(x_predict)\n",
    "print(y_predict)"
   ]
  },
  {
   "cell_type": "code",
   "execution_count": 19,
   "id": "6021f2e0-97f0-41c8-acea-c1ee257810d1",
   "metadata": {
    "tags": []
   },
   "outputs": [
    {
     "name": "stdout",
     "output_type": "stream",
     "text": [
      "[0 1 1 0]\n"
     ]
    }
   ],
   "source": [
    "    import numpy as np\n",
    "    import matplotlib.pyplot as plot\n",
    "    from sklearn.linear_model import Perceptron\n",
    "\n",
    "    numarray = np.array([[0,0,0,0], [0,0,0,1], \n",
    "          [0,1,0,0], [0,1,1,1],\n",
    "          [1,0,0,1], [1,0,1,0], \n",
    "          [1,1,1,0], [1,1,1,1]])\n",
    "    result = np.array([0, 0, \n",
    "          0, 0, \n",
    "          1, 1,\n",
    "          1, 1])\n",
    "\n",
    "    perceptron = Perceptron(max_iter=1000)\n",
    "    perceptron.fit(numarray, result)\n",
    "\n",
    "    x_predict = np.array([[0,1,0,1], [1,0,1,1], [1,1,0,0], [0,1,0,1]])\n",
    "\n",
    "    y_predict = perceptron.predict(x_predict)\n",
    "    print(y_predict)\n",
    "\n"
   ]
  },
  {
   "cell_type": "code",
   "execution_count": 20,
   "id": "4606419a-21f3-42c9-b851-fba9edc078cf",
   "metadata": {
    "tags": []
   },
   "outputs": [
    {
     "name": "stdout",
     "output_type": "stream",
     "text": [
      "[0 1 1 0]\n"
     ]
    }
   ],
   "source": [
    "import numpy as np\n",
    "import matplotlib.pyplot as plot\n",
    "from sklearn.neural_network import MLPClassifier\n",
    "\n",
    "numarray = np.array(\n",
    "    [\n",
    "        [0, 0, 0, 0],\n",
    "        [0, 0, 0, 1],\n",
    "        [0, 1, 0, 0],\n",
    "        [0, 1, 1, 1],\n",
    "        [1, 0, 0, 1],\n",
    "        [1, 0, 1, 0],\n",
    "        [1, 1, 1, 0],\n",
    "        [1, 1, 1, 1],\n",
    "    ]\n",
    ")\n",
    "\n",
    "result = np.array([0, 0, 0, 0, 1, 1, 1, 1])\n",
    "\n",
    "mlpclassifier = MLPClassifier(alpha=2, max_iter=1000)\n",
    "mlpclassifier.fit(numarray, result)\n",
    "\n",
    "x_predict = np.array([[0, 1, 0, 1], [1, 0, 1, 1], [1, 1, 0, 0], [0, 1, 0, 1],[2,1,1,0]])\n",
    "\n",
    "y_predict = mlpclassifier.predict(x_predict)\n",
    "print(y_predict)"
   ]
  },
  {
   "cell_type": "code",
   "execution_count": 21,
   "id": "9d5347a7-bd53-495a-a64b-7b547233dba0",
   "metadata": {
    "tags": []
   },
   "outputs": [
    {
     "name": "stdout",
     "output_type": "stream",
     "text": [
      "[0 1 2 3 4 5 6 7 8 9]\n"
     ]
    }
   ],
   "source": [
    "from sklearn import datasets\n",
    "import numpy as np\n",
    "\n",
    "digits = datasets.load_digits()\n",
    "\n",
    "print(np.unique(digits.target))"
   ]
  },
  {
   "cell_type": "code",
   "execution_count": 22,
   "id": "8ad3d87d-a31c-4d18-9ec2-e85b2acb05b2",
   "metadata": {
    "tags": []
   },
   "outputs": [
    {
     "name": "stdout",
     "output_type": "stream",
     "text": [
      "Number of images:  115008\n",
      "Input data:  [[ 0.  0.  5. 13.  9.  1.  0.  0.]\n",
      " [ 0.  0. 13. 15. 10. 15.  5.  0.]\n",
      " [ 0.  3. 15.  2.  0. 11.  8.  0.]\n",
      " [ 0.  4. 12.  0.  0.  8.  8.  0.]\n",
      " [ 0.  5.  8.  0.  0.  9.  8.  0.]\n",
      " [ 0.  4. 11.  0.  1. 12.  7.  0.]\n",
      " [ 0.  2. 14.  5. 10. 12.  0.  0.]\n",
      " [ 0.  0.  6. 13. 10.  0.  0.  0.]]\n",
      "Label: 0\n"
     ]
    },
    {
     "data": {
      "image/png": "[encoded data removed]",
      "text/plain": [
       "<Figure size 640x480 with 1 Axes>"
      ]
     },
     "metadata": {},
     "output_type": "display_data"
    }
   ],
   "source": [
    "from sklearn import datasets\n",
    "import numpy as np\n",
    "import matplotlib.pyplot as plot\n",
    "\n",
    "digits = datasets.load_digits()\n",
    "\n",
    "print(\"Number of images: \", digits.images.size)\n",
    "print(\"Input data: \", digits.images[0])\n",
    "print(\"Label:\", digits.target[0])\n",
    "\n",
    "plot.imshow(digits.images[0], cmap=plot.cm.gray_r)\n",
    "plot.show()"
   ]
  },
  {
   "cell_type": "code",
   "execution_count": 23,
   "id": "e2bb2cd4-ccd2-4152-96bc-d130de44937e",
   "metadata": {
    "tags": []
   },
   "outputs": [
    {
     "name": "stdout",
     "output_type": "stream",
     "text": [
      "Predicted value:  [4]\n"
     ]
    },
    {
     "data": {
      "image/png": "[encoded data removed]",
      "text/plain": [
       "<Figure size 640x480 with 1 Axes>"
      ]
     },
     "metadata": {},
     "output_type": "display_data"
    }
   ],
   "source": [
    "from sklearn import datasets, svm\n",
    "import numpy as np\n",
    "import matplotlib.pyplot as plot\n",
    "\n",
    "digits = datasets.load_digits()\n",
    "\n",
    "training_images = digits.images[: int(digits.images.shape[0] / 2)]\n",
    "training_images = training_images.reshape((training_images.shape[0], -1))\n",
    "\n",
    "training_target = digits.target[0 : int(digits.target.shape[0] / 2)]\n",
    "\n",
    "classifier = svm.SVC(gamma=0.001, C=100.0)\n",
    "\n",
    "# training\n",
    "classifier.fit(training_images, training_target)\n",
    "\n",
    "# prediction\n",
    "predict_image = digits.images[int(digits.images.shape[0] / 2) + 2]\n",
    "print(\"Predicted value: \", classifier.predict(predict_image.reshape(1, -1)))\n",
    "\n",
    "plot.imshow(predict_image, cmap=plot.cm.gray_r)\n",
    "plot.show()"
   ]
  },
  {
   "cell_type": "code",
   "execution_count": 24,
   "id": "e576f5a9-4bad-4b85-ad0d-bdd8dc5f2927",
   "metadata": {
    "tags": []
   },
   "outputs": [
    {
     "name": "stdout",
     "output_type": "stream",
     "text": [
      "              precision    recall  f1-score   support\n",
      "\n",
      "           0       1.00      0.99      0.99        88\n",
      "           1       0.99      0.96      0.97        91\n",
      "           2       0.99      0.99      0.99        86\n",
      "           3       0.98      0.90      0.94        91\n",
      "           4       0.99      0.96      0.97        92\n",
      "           5       0.95      0.96      0.95        91\n",
      "           6       0.99      0.99      0.99        91\n",
      "           7       0.98      0.99      0.98        89\n",
      "           8       0.94      1.00      0.97        87\n",
      "           9       0.92      0.98      0.95        92\n",
      "\n",
      "    accuracy                           0.97       898\n",
      "   macro avg       0.97      0.97      0.97       898\n",
      "weighted avg       0.97      0.97      0.97       898\n",
      "\n"
     ]
    }
   ],
   "source": [
    "from sklearn import datasets, svm, metrics\n",
    "import numpy as np\n",
    "import matplotlib.pyplot as plot\n",
    "\n",
    "digits = datasets.load_digits()\n",
    "\n",
    "training_images = digits.images[: int(digits.images.shape[0] / 2)]\n",
    "training_images = training_images.reshape((training_images.shape[0], -1))\n",
    "\n",
    "training_target = digits.target[0 : int(digits.target.shape[0] / 2)]\n",
    "\n",
    "classifier = svm.SVC(gamma=0.001, C=100.0)\n",
    "# training\n",
    "classifier.fit(training_images, training_target)\n",
    "\n",
    "# prediction\n",
    "predict_images = digits.images[int(digits.images.shape[0] / 2) + 1 :]\n",
    "actual_labels = digits.target[int(digits.target.shape[0] / 2) + 1 :]\n",
    "predicted_labels = classifier.predict(\n",
    "    predict_images.reshape((predict_images.shape[0], -1))\n",
    ")\n",
    "\n",
    "# classification report\n",
    "print(metrics.classification_report(actual_labels, predicted_labels))"
   ]
  },
  {
   "cell_type": "code",
   "execution_count": 25,
   "id": "795e2e7e-8944-47d8-a873-bcd30d225d7c",
   "metadata": {
    "tags": []
   },
   "outputs": [
    {
     "name": "stdout",
     "output_type": "stream",
     "text": [
      "              precision    recall  f1-score   support\n",
      "\n",
      "           0       0.91      0.98      0.94        88\n",
      "           1       0.79      0.91      0.85        91\n",
      "           2       0.98      0.97      0.97        86\n",
      "           3       0.95      0.84      0.89        91\n",
      "           4       0.95      0.90      0.93        92\n",
      "           5       0.83      0.92      0.87        91\n",
      "           6       0.97      0.99      0.98        91\n",
      "           7       0.98      0.92      0.95        89\n",
      "           8       0.94      0.74      0.83        87\n",
      "           9       0.83      0.90      0.86        92\n",
      "\n",
      "    accuracy                           0.91       898\n",
      "   macro avg       0.91      0.91      0.91       898\n",
      "weighted avg       0.91      0.91      0.91       898\n",
      "\n"
     ]
    }
   ],
   "source": [
    "from sklearn import datasets, metrics\n",
    "from sklearn.linear_model import Perceptron\n",
    "import numpy as np\n",
    "import matplotlib.pyplot as plot\n",
    "\n",
    "digits = datasets.load_digits()\n",
    "\n",
    "training_images = digits.images[: int(digits.images.shape[0] / 2)]\n",
    "training_images = training_images.reshape((training_images.shape[0], -1))\n",
    "\n",
    "training_target = digits.target[0 : int(digits.target.shape[0] / 2)]\n",
    "\n",
    "classifier = Perceptron(max_iter=1000)\n",
    "# training\n",
    "classifier.fit(training_images, training_target)\n",
    "\n",
    "# prediction\n",
    "predict_images = digits.images[int(digits.images.shape[0] / 2) + 1 :]\n",
    "actual_labels = digits.target[int(digits.target.shape[0] / 2) + 1 :]\n",
    "predicted_labels = classifier.predict(\n",
    "    predict_images.reshape((predict_images.shape[0], -1))\n",
    ")\n",
    "\n",
    "# classification report\n",
    "print(metrics.classification_report(actual_labels, predicted_labels))"
   ]
  },
  {
   "cell_type": "code",
   "execution_count": 26,
   "id": "0f68add6-f5a6-4974-802f-bf571f8be6a7",
   "metadata": {
    "tags": []
   },
   "outputs": [
    {
     "name": "stdout",
     "output_type": "stream",
     "text": [
      "              precision    recall  f1-score   support\n",
      "\n",
      "           0       1.00      0.98      0.99        88\n",
      "           1       0.95      0.91      0.93        91\n",
      "           2       1.00      0.99      0.99        86\n",
      "           3       0.96      0.85      0.90        91\n",
      "           4       0.99      0.91      0.95        92\n",
      "           5       0.92      0.96      0.94        91\n",
      "           6       0.94      0.99      0.96        91\n",
      "           7       0.98      0.99      0.98        89\n",
      "           8       0.91      0.94      0.93        87\n",
      "           9       0.86      0.97      0.91        92\n",
      "\n",
      "    accuracy                           0.95       898\n",
      "   macro avg       0.95      0.95      0.95       898\n",
      "weighted avg       0.95      0.95      0.95       898\n",
      "\n"
     ]
    }
   ],
   "source": [
    "from sklearn import datasets, metrics\n",
    "from sklearn.neural_network import MLPClassifier\n",
    "import numpy as np\n",
    "import matplotlib.pyplot as plot\n",
    "\n",
    "digits = datasets.load_digits()\n",
    "\n",
    "training_images = digits.images[: int(digits.images.shape[0] / 2)]\n",
    "training_images = training_images.reshape((training_images.shape[0], -1))\n",
    "\n",
    "training_target = digits.target[0 : int(digits.target.shape[0] / 2)]\n",
    "\n",
    "classifier = MLPClassifier(alpha=2, max_iter=1000)\n",
    "# training\n",
    "classifier.fit(training_images, training_target)\n",
    "\n",
    "# prediction\n",
    "predict_images = digits.images[int(digits.images.shape[0] / 2) + 1 :]\n",
    "actual_labels = digits.target[int(digits.target.shape[0] / 2) + 1 :]\n",
    "predicted_labels = classifier.predict(\n",
    "    predict_images.reshape((predict_images.shape[0], -1))\n",
    ")\n",
    "\n",
    "# classification report\n",
    "print(metrics.classification_report(actual_labels, predicted_labels))"
   ]
  },
  {
   "cell_type": "code",
   "execution_count": 27,
   "id": "4c91da6c-5ab6-4775-b9e4-84584c76a3bb",
   "metadata": {
    "tags": []
   },
   "outputs": [
    {
     "name": "stdout",
     "output_type": "stream",
     "text": [
      "Collecting graphviz\n",
      "  Downloading graphviz-0.20.1-py3-none-any.whl (47 kB)\n",
      "\u001b[2K     \u001b[90m━━━━━━━━━━━━━━━━━━━━━━━━━━━━━━━━━━━━━━━━\u001b[0m \u001b[32m47.0/47.0 kB\u001b[0m \u001b[31m1.2 MB/s\u001b[0m eta \u001b[36m0:00:00\u001b[0mta \u001b[36m0:00:01\u001b[0m\n",
      "\u001b[?25hCollecting pydotplus\n",
      "  Downloading pydotplus-2.0.2.tar.gz (278 kB)\n",
      "\u001b[2K     \u001b[90m━━━━━━━━━━━━━━━━━━━━━━━━━━━━━━━━━━━━━\u001b[0m \u001b[32m278.7/278.7 kB\u001b[0m \u001b[31m292.1 kB/s\u001b[0m eta \u001b[36m0:00:00\u001b[0ma \u001b[36m0:00:01\u001b[0m\n",
      "\u001b[?25h  Preparing metadata (setup.py) ... \u001b[?25ldone\n",
      "\u001b[?25hRequirement already satisfied: pyparsing>=2.0.1 in /Users/pierre-antoine/Documents/DataMining/env/lib/python3.10/site-packages (from pydotplus) (3.0.9)\n",
      "Installing collected packages: pydotplus, graphviz\n",
      "\u001b[33m  DEPRECATION: pydotplus is being installed using the legacy 'setup.py install' method, because it does not have a 'pyproject.toml' and the 'wheel' package is not installed. pip 23.1 will enforce this behaviour change. A possible replacement is to enable the '--use-pep517' option. Discussion can be found at https://github.com/pypa/pip/issues/8559\u001b[0m\u001b[33m\n",
      "\u001b[0m  Running setup.py install for pydotplus ... \u001b[?25ldone\n",
      "\u001b[?25hSuccessfully installed graphviz-0.20.1 pydotplus-2.0.2\n",
      "\n",
      "\u001b[1m[\u001b[0m\u001b[34;49mnotice\u001b[0m\u001b[1;39;49m]\u001b[0m\u001b[39;49m A new release of pip available: \u001b[0m\u001b[31;49m22.3.1\u001b[0m\u001b[39;49m -> \u001b[0m\u001b[32;49m23.0.1\u001b[0m\n",
      "\u001b[1m[\u001b[0m\u001b[34;49mnotice\u001b[0m\u001b[1;39;49m]\u001b[0m\u001b[39;49m To update, run: \u001b[0m\u001b[32;49mpip install --upgrade pip\u001b[0m\n"
     ]
    }
   ],
   "source": [
    "! pip3 install graphviz pydotplus"
   ]
  },
  {
   "cell_type": "code",
   "execution_count": null,
   "id": "c7286948-be63-4e92-bd8f-0dfb33d03f33",
   "metadata": {},
   "outputs": [],
   "source": []
  }
 ],
 "metadata": {
  "kernelspec": {
   "display_name": "Python 3 (ipykernel)",
   "language": "python",
   "name": "python3"
  },
  "language_info": {
   "codemirror_mode": {
    "name": "ipython",
    "version": 3
   },
   "file_extension": ".py",
   "mimetype": "text/x-python",
   "name": "python",
   "nbconvert_exporter": "python",
   "pygments_lexer": "ipython3",
   "version": "3.10.9"
  }
 },
 "nbformat": 4,
 "nbformat_minor": 5
}
