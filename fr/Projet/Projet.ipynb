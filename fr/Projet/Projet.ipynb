{
 "cells": [
  {
   "cell_type": "code",
   "execution_count": 1,
   "id": "aeeab567-a098-486c-a8ce-2bdda9c5e0af",
   "metadata": {},
   "outputs": [
    {
     "name": "stdout",
     "output_type": "stream",
     "text": [
      "Requirement already satisfied: Pillow in /Users/pierre-antoine/Documents/DataMining/env/lib/python3.10/site-packages (9.4.0)\n",
      "\n",
      "\u001b[1m[\u001b[0m\u001b[34;49mnotice\u001b[0m\u001b[1;39;49m]\u001b[0m\u001b[39;49m A new release of pip available: \u001b[0m\u001b[31;49m22.3.1\u001b[0m\u001b[39;49m -> \u001b[0m\u001b[32;49m23.0.1\u001b[0m\n",
      "\u001b[1m[\u001b[0m\u001b[34;49mnotice\u001b[0m\u001b[1;39;49m]\u001b[0m\u001b[39;49m To update, run: \u001b[0m\u001b[32;49mpip install --upgrade pip\u001b[0m\n",
      "Requirement already satisfied: graphviz in /Users/pierre-antoine/Documents/DataMining/env/lib/python3.10/site-packages (0.20.1)\n",
      "Requirement already satisfied: pydotplus in /Users/pierre-antoine/Documents/DataMining/env/lib/python3.10/site-packages (2.0.2)\n",
      "Requirement already satisfied: pyparsing>=2.0.1 in /Users/pierre-antoine/Documents/DataMining/env/lib/python3.10/site-packages (from pydotplus) (3.0.9)\n",
      "\n",
      "\u001b[1m[\u001b[0m\u001b[34;49mnotice\u001b[0m\u001b[1;39;49m]\u001b[0m\u001b[39;49m A new release of pip available: \u001b[0m\u001b[31;49m22.3.1\u001b[0m\u001b[39;49m -> \u001b[0m\u001b[32;49m23.0.1\u001b[0m\n",
      "\u001b[1m[\u001b[0m\u001b[34;49mnotice\u001b[0m\u001b[1;39;49m]\u001b[0m\u001b[39;49m To update, run: \u001b[0m\u001b[32;49mpip install --upgrade pip\u001b[0m\n",
      "Requirement already satisfied: pydot in /Users/pierre-antoine/Documents/DataMining/env/lib/python3.10/site-packages (1.4.2)\n",
      "Requirement already satisfied: pyparsing>=2.1.4 in /Users/pierre-antoine/Documents/DataMining/env/lib/python3.10/site-packages (from pydot) (3.0.9)\n",
      "\n",
      "\u001b[1m[\u001b[0m\u001b[34;49mnotice\u001b[0m\u001b[1;39;49m]\u001b[0m\u001b[39;49m A new release of pip available: \u001b[0m\u001b[31;49m22.3.1\u001b[0m\u001b[39;49m -> \u001b[0m\u001b[32;49m23.0.1\u001b[0m\n",
      "\u001b[1m[\u001b[0m\u001b[34;49mnotice\u001b[0m\u001b[1;39;49m]\u001b[0m\u001b[39;49m To update, run: \u001b[0m\u001b[32;49mpip install --upgrade pip\u001b[0m\n",
      "Requirement already satisfied: pydotplus in /Users/pierre-antoine/Documents/DataMining/env/lib/python3.10/site-packages (2.0.2)\n",
      "Requirement already satisfied: pyparsing>=2.0.1 in /Users/pierre-antoine/Documents/DataMining/env/lib/python3.10/site-packages (from pydotplus) (3.0.9)\n",
      "\n",
      "\u001b[1m[\u001b[0m\u001b[34;49mnotice\u001b[0m\u001b[1;39;49m]\u001b[0m\u001b[39;49m A new release of pip available: \u001b[0m\u001b[31;49m22.3.1\u001b[0m\u001b[39;49m -> \u001b[0m\u001b[32;49m23.0.1\u001b[0m\n",
      "\u001b[1m[\u001b[0m\u001b[34;49mnotice\u001b[0m\u001b[1;39;49m]\u001b[0m\u001b[39;49m To update, run: \u001b[0m\u001b[32;49mpip install --upgrade pip\u001b[0m\n",
      "Requirement already satisfied: graphviz in /Users/pierre-antoine/Documents/DataMining/env/lib/python3.10/site-packages (0.20.1)\n",
      "\n",
      "\u001b[1m[\u001b[0m\u001b[34;49mnotice\u001b[0m\u001b[1;39;49m]\u001b[0m\u001b[39;49m A new release of pip available: \u001b[0m\u001b[31;49m22.3.1\u001b[0m\u001b[39;49m -> \u001b[0m\u001b[32;49m23.0.1\u001b[0m\n",
      "\u001b[1m[\u001b[0m\u001b[34;49mnotice\u001b[0m\u001b[1;39;49m]\u001b[0m\u001b[39;49m To update, run: \u001b[0m\u001b[32;49mpip install --upgrade pip\u001b[0m\n",
      "Requirement already satisfied: kaggle in /Users/pierre-antoine/Documents/DataMining/env/lib/python3.10/site-packages (1.5.13)\n",
      "Requirement already satisfied: six>=1.10 in /Users/pierre-antoine/Documents/DataMining/env/lib/python3.10/site-packages (from kaggle) (1.16.0)\n",
      "Requirement already satisfied: certifi in /Users/pierre-antoine/Documents/DataMining/env/lib/python3.10/site-packages (from kaggle) (2022.12.7)\n",
      "Requirement already satisfied: python-dateutil in /Users/pierre-antoine/Documents/DataMining/env/lib/python3.10/site-packages (from kaggle) (2.8.2)\n",
      "Requirement already satisfied: requests in /Users/pierre-antoine/Documents/DataMining/env/lib/python3.10/site-packages (from kaggle) (2.28.2)\n",
      "Requirement already satisfied: tqdm in /Users/pierre-antoine/Documents/DataMining/env/lib/python3.10/site-packages (from kaggle) (4.65.0)\n",
      "Requirement already satisfied: python-slugify in /Users/pierre-antoine/Documents/DataMining/env/lib/python3.10/site-packages (from kaggle) (8.0.1)\n",
      "Requirement already satisfied: urllib3 in /Users/pierre-antoine/Documents/DataMining/env/lib/python3.10/site-packages (from kaggle) (1.26.14)\n",
      "Requirement already satisfied: text-unidecode>=1.3 in /Users/pierre-antoine/Documents/DataMining/env/lib/python3.10/site-packages (from python-slugify->kaggle) (1.3)\n",
      "Requirement already satisfied: charset-normalizer<4,>=2 in /Users/pierre-antoine/Documents/DataMining/env/lib/python3.10/site-packages (from requests->kaggle) (3.0.1)\n",
      "Requirement already satisfied: idna<4,>=2.5 in /Users/pierre-antoine/Documents/DataMining/env/lib/python3.10/site-packages (from requests->kaggle) (3.4)\n",
      "\n",
      "\u001b[1m[\u001b[0m\u001b[34;49mnotice\u001b[0m\u001b[1;39;49m]\u001b[0m\u001b[39;49m A new release of pip available: \u001b[0m\u001b[31;49m22.3.1\u001b[0m\u001b[39;49m -> \u001b[0m\u001b[32;49m23.0.1\u001b[0m\n",
      "\u001b[1m[\u001b[0m\u001b[34;49mnotice\u001b[0m\u001b[1;39;49m]\u001b[0m\u001b[39;49m To update, run: \u001b[0m\u001b[32;49mpip install --upgrade pip\u001b[0m\n",
      "Warning: Your Kaggle API key is readable by other users on this system! To fix this, you can run 'chmod 600 /Users/pierre-antoine/.kaggle/kaggle.json'\n"
     ]
    }
   ],
   "source": [
    "########## Telechargement des modules ########## \n",
    "! pip3 install Pillow\n",
    "! pip3 install graphviz pydotplus\n",
    "! pip3 install pydot\n",
    "! pip3 install pydotplus\n",
    "! pip3 install graphviz\n",
    "! python3 -m pip install kaggle\n",
    "\n",
    "########## Importation des librairies ##########\n",
    "\n",
    "from PIL import Image\n",
    "from PIL.ExifTags import TAGS\n",
    "import json\n",
    "import os\n",
    "from PIL import Image\n",
    "import numpy\n",
    "import math\n",
    "import matplotlib.pyplot as plot\n",
    "import pandas as pd\n",
    "from sklearn.cluster import MiniBatchKMeans\n",
    "from scipy.spatial import KDTree\n",
    "from webcolors import (CSS3_HEX_TO_NAMES, hex_to_rgb,)\n",
    "import random\n",
    "from IPython.display import clear_output\n",
    "import kaggle\n",
    "import zipfile\n",
    "import warnings\n",
    "from sklearn import tree\n",
    "from sklearn.ensemble import RandomForestClassifier\n",
    "import pandas as pd\n",
    "from sklearn.preprocessing import LabelEncoder\n",
    "########## Variables ##########\n",
    "dictionnaire_preferences = {}\n",
    "\n",
    "########## Suppression des warnings ##########\n",
    "def warn(*args, **kwargs):\n",
    "    pass\n",
    "\n",
    "warnings.warn = warn"
   ]
  },
  {
   "cell_type": "code",
   "execution_count": 2,
   "id": "de370630",
   "metadata": {},
   "outputs": [
    {
     "name": "stdout",
     "output_type": "stream",
     "text": [
      "Warning: Your Kaggle API key is readable by other users on this system! To fix this, you can run 'chmod 600 /Users/pierre-antoine/.kaggle/kaggle.json'\n",
      "pokemon-images-and-types.zip: Skipping, found more recently modified local copy (use --force to force download)\n"
     ]
    }
   ],
   "source": [
    "##########  Telechargement des images ########## \n",
    "! kaggle datasets download -d vishalsubbiah/pokemon-images-and-types\n",
    "os.getcwd()\n",
    "with zipfile.ZipFile('pokemon-images-and-types.zip', 'r') as zip_ref:\n",
    "    zip_ref.extractall('ImagesPokemonUNZIPPED')"
   ]
  },
  {
   "cell_type": "code",
   "execution_count": 3,
   "id": "8aafb0e4",
   "metadata": {},
   "outputs": [],
   "source": [
    "########## Suppression des images Mods P ##########\n",
    "def convert_P_to_RGBA():\n",
    "    dossier = \"ImagesPokemonUNZIPPED/images/images\"\n",
    "    for filename in os.listdir(dossier):\n",
    "        imagename = os.path.join(dossier, filename)\n",
    "\n",
    "        if os.path.isfile(imagename):\n",
    "            image = Image.open(imagename)\n",
    "            if image.mode == 'P':\n",
    "                image2 = image.convert('RGBA')\n",
    "                image2.save(image.filename)\n",
    "    return \"Ok\""
   ]
  },
  {
   "cell_type": "code",
   "execution_count": 5,
   "id": "70224180",
   "metadata": {},
   "outputs": [],
   "source": [
    "########### function qui covertie les nombre RGB en Nom de couleur ##########\n",
    "def rgb_to_name(rgb):\n",
    "    # a disctionnary of all the hex and their respective names in css3\n",
    "    css3_db = CSS3_HEX_TO_NAMES\n",
    "    names = []\n",
    "    rgb_values = []\n",
    "    for color_hex, color_name in css3_db.items():\n",
    "        names.append(color_name)\n",
    "        rgb_values.append(hex_to_rgb(color_hex))\n",
    "    \n",
    "    kdt_db = KDTree(rgb_values)\n",
    "    distance, index = kdt_db.query(rgb)\n",
    "    return f'{names[index]}'"
   ]
  },
  {
   "cell_type": "code",
   "execution_count": 6,
   "id": "9c5c1ae9",
   "metadata": {},
   "outputs": [],
   "source": [
    "########## Fonction qui permet de trouver les couleurs prédominantes ##########\n",
    "\n",
    "def find_predominant_color(imagepath):\n",
    "\n",
    "    nombre_couleurs = 5 #Un de plus que ce qu'on veux\n",
    "\n",
    "    imgfile = Image.open(imagepath)\n",
    "    numarray = numpy.array(imgfile.getdata(), numpy.uint8)\n",
    "    clusters = MiniBatchKMeans(n_clusters=nombre_couleurs)\n",
    "    clusters.fit(numarray)\n",
    "    npbins = numpy.arange(0, nombre_couleurs+1)\n",
    "    histogram = numpy.histogram(clusters.labels_, bins=npbins)\n",
    "    [list1,list2] = histogram\n",
    "    list1,list2 = zip(*sorted(zip(list1,list2),reverse=True))\n",
    "    histogram_sort = [list1,list2]\n",
    "\n",
    "    labels = numpy.unique(clusters.labels_)\n",
    "    list_colors = []\n",
    "    colornames = []\n",
    "    for i in range(nombre_couleurs-1):\n",
    "        list_colors.append(\n",
    "            \"#%02x%02x%02x\"\n",
    "            % (\n",
    "                math.ceil(clusters.cluster_centers_[list2[i+1]][0]),\n",
    "                math.ceil(clusters.cluster_centers_[list2[i+1]][1]),\n",
    "                math.ceil(clusters.cluster_centers_[list2[i+1]][2]),\n",
    "            )\n",
    "        )\n",
    "        rgb = [math.ceil(clusters.cluster_centers_[list2[i+1]][0]),\n",
    "                math.ceil(clusters.cluster_centers_[list2[i+1]][1]),\n",
    "                math.ceil(clusters.cluster_centers_[list2[i+1]][2]),]\n",
    "        colornames.append(rgb_to_name(rgb))\n",
    "\n",
    "    return colornames"
   ]
  },
  {
   "cell_type": "code",
   "execution_count": 7,
   "id": "f4951075",
   "metadata": {},
   "outputs": [],
   "source": [
    "########## Création du fichier JSON ##########\n",
    "\n",
    "def write_json(filename, data):\n",
    "    with open(filename, 'w') as f:\n",
    "        json.dump(data, f, indent=4)"
   ]
  },
  {
   "cell_type": "code",
   "execution_count": 8,
   "id": "eecbf269",
   "metadata": {},
   "outputs": [],
   "source": [
    "########## recuperation des informations du fichier JSON ##########\n",
    "def get_infos_JSON():\n",
    "    toutes_les_infos = []\n",
    "    df = pd.read_csv('All_Pokemon.csv', sep=',')\n",
    "    dossier = \"ImagesPokemonUNZIPPED/images/images/\"\n",
    "    for filename in os.listdir(dossier):\n",
    "        imagename = os.path.join(dossier, filename)\n",
    "        if os.path.isfile(imagename):\n",
    "            image = Image.open(imagename)\n",
    "            couleur = find_predominant_color(imagename)\n",
    "\n",
    "            for i in range(len(df)):\n",
    "                if df[\"Name\"][i].lower() == image.filename.split(\".\")[0].split(\"/\")[3]:\n",
    "                    #type2 = df[\"Type 2\"][i]\n",
    "                    #if type2 == \"NaN\":\n",
    "                    #    type2 = \"None\"\n",
    "                    info_dict = {\n",
    "                    \"Filename\": image.filename,\n",
    "                    \"Name\" : image.filename.split(\".\")[0].split(\"/\")[3].capitalize(),\n",
    "                    \"Image Size\": image.size,\n",
    "                    \"Image Height\": image.height,\n",
    "                    \"Image Width\": image.width,\n",
    "                    \"Image Format\": image.format,\n",
    "                    \"Image Mode\": image.mode,\n",
    "                    \"Image is Animated\": getattr(image, \"is_animated\", False),\n",
    "                    \"Frames in Image\": getattr(image, \"n_frames\", 1),\n",
    "                    \"Predominant color\": [\n",
    "                        couleur[0],\n",
    "                        couleur[1],\n",
    "                        couleur[2],\n",
    "                        couleur[3]\n",
    "                    ],\n",
    "                    \"Type 1\": df[\"Type 1\"][i],\n",
    "                    #\"Type 2\": type2,\n",
    "                    \"Generation\": df[\"Generation\"][i],\n",
    "                    \"Legendary\": df[\"Legendary\"][i],\n",
    "                    \"Mega Evolution\": df[\"Mega Evolution\"][i],\n",
    "                    \"Height\": df[\"Height\"][i],\n",
    "                    \"Weight\": df[\"Weight\"][i],\n",
    "                    }\n",
    "                    toutes_les_infos.append(info_dict)\n",
    "                    #print(\"Pokemon trouvé : \" + image.filename.split(\".\")[0].split(\"/\")[3].capitalize())\n",
    "                    break\n",
    "    return toutes_les_infos"
   ]
  },
  {
   "cell_type": "code",
   "execution_count": 9,
   "id": "0088e9a1",
   "metadata": {},
   "outputs": [],
   "source": [
    "########## Récupération des tags relatifs aux images ##########\n",
    "\n",
    "def get_all_tags():\n",
    "    tags = []\n",
    "    with open('pokemonjson.json', 'r') as f:\n",
    "        jason = json.load(f)\n",
    "    for pokemon in jason:\n",
    "        tags.append([pokemon[\"Filename\"].split(\".\")[0].split(\"/\")[3].capitalize(),pokemon[\"Predominant color\"][0],pokemon[\"Predominant color\"][1],pokemon[\"Predominant color\"][2],pokemon[\"Predominant color\"][3],pokemon[\"Type 1\"],pokemon[\"Generation\"],pokemon[\"Legendary\"],pokemon[\"Mega Evolution\"],pokemon[\"Height\"],pokemon[\"Weight\"]])\n",
    "    return tags"
   ]
  },
  {
   "cell_type": "code",
   "execution_count": 10,
   "id": "6ab03f97",
   "metadata": {},
   "outputs": [],
   "source": [
    "########## Récupération d'une image aléatoire et de ses tags ##########\n",
    "\n",
    "def random_image_and_tags():\n",
    "    dossier = \"ImagesPokemonUNZIPPED/images/images/\"\n",
    "    imagename = random.choice(os.listdir(dossier))\n",
    "    image = Image.open(os.path.join(dossier, imagename))\n",
    "    \n",
    "    tags = []\n",
    "    pokemons = get_all_tags()\n",
    "    for pokemon in pokemons:\n",
    "        if image.filename.split(\".\")[0].split(\"/\")[3].capitalize() in pokemon[0]:\n",
    "            tags.append(pokemon[1])\n",
    "            tags.append(pokemon[5])\n",
    "            tags.append(pokemon[6])\n",
    "            tags.append(pokemon[7])\n",
    "            break\n",
    "    if tags == []:\n",
    "        random_image_and_tags()\n",
    "    else:\n",
    "        return tags, image, imagename"
   ]
  },
  {
   "cell_type": "code",
   "execution_count": 11,
   "id": "838918dd",
   "metadata": {},
   "outputs": [],
   "source": [
    "########## Récupération d'une image non aléatoire et de ses tags ##########\n",
    "\n",
    "def tags_of_image(imagename):\n",
    "    image = Image.open(os.path.join(\"ImagesPokemonUNZIPPED/images/images/\", imagename))\n",
    "\n",
    "    tags = []\n",
    "    pokemons = get_all_tags()\n",
    "    for pokemon in pokemons:\n",
    "        if image.filename.split(\".\")[0].split(\"/\")[3].capitalize() in pokemon[0]:\n",
    "            tags.append(pokemon[1])\n",
    "            tags.append(pokemon[5])\n",
    "            tags.append(pokemon[6])\n",
    "            tags.append(pokemon[7])\n",
    "            break\n",
    "    return tags, image, imagename"
   ]
  },
  {
   "cell_type": "code",
   "execution_count": 12,
   "id": "e607ab40",
   "metadata": {},
   "outputs": [],
   "source": [
    "########## Génération des préférences de l'utilisateur en lui montrant des images ##########\n",
    "def generate_preferences():\n",
    "    liste_tags = []\n",
    "    liste_fav_or_not = []\n",
    "    liste_chemins_fav = []\n",
    "    liste_des_trucs_vus = []\n",
    "    nombre_favoris = 15\n",
    "    i = 0\n",
    "    print(\"vous allez devoir choisir {} photos favorites\".format(nombre_favoris)) \n",
    "    while i != nombre_favoris :\n",
    "        try:\n",
    "            (tags, image, imagename) = random_image_and_tags()\n",
    "            if tags not in liste_des_trucs_vus:\n",
    "                liste_des_trucs_vus.append(tags)\n",
    "                clear_output(wait=True)\n",
    "                plot.imshow(image)\n",
    "                plot.show()\n",
    "                print(\"Do you like this image ? (y/n)\")\n",
    "                reponse = input()\n",
    "                if reponse == \"y\":\n",
    "                    liste_fav_or_not.append(\"Favori\")\n",
    "                    liste_chemins_fav.append(imagename)\n",
    "                    i+=1\n",
    "                    liste_tags.append(tags)\n",
    "        except:\n",
    "            pass\n",
    "    return liste_tags, liste_fav_or_not, liste_chemins_fav"
   ]
  },
  {
   "cell_type": "code",
   "execution_count": 13,
   "id": "62bf6a8e",
   "metadata": {},
   "outputs": [],
   "source": [
    "########## Génération d'une image que pourrait aimer l'utilisateur#########\n",
    "def generate_favorite_image(username):\n",
    "\n",
    "    data = dictionnaire_preferences[username][0].copy()\n",
    "    result = dictionnaire_preferences[username][1].copy()\n",
    "\n",
    "    for imagename in os.listdir(\"ImagesPokemonUNZIPPED/images/images/\"):\n",
    "        path = os.path.join(\"ImagesPokemonUNZIPPED/images/images/\", imagename)\n",
    "        if os.path.isfile(path):\n",
    "            tags, imagezzz, imagenamezzz = tags_of_image(imagename)\n",
    "            if tags not in data and tags != []:\n",
    "                data.append(tags)\n",
    "                result.append(\"Non favori\")\n",
    "   \n",
    "    \n",
    "    # creating dataframes\n",
    "    dataframe = pd.DataFrame(data, columns=[\"color1\", \"type\", \"generation\", \"legendary\"])\n",
    "    resultframe = pd.DataFrame(result, columns=[\"favorite\"])\n",
    "\n",
    "    # generating numerical labels\n",
    "    le1 = LabelEncoder()\n",
    "    dataframe[\"color1\"] = le1.fit_transform(dataframe[\"color1\"])\n",
    "\n",
    "    le5 = LabelEncoder()\n",
    "    dataframe[\"type\"] = le5.fit_transform(dataframe[\"type\"])\n",
    "\n",
    "    le6 = LabelEncoder()\n",
    "    dataframe[\"generation\"] = le6.fit_transform(dataframe[\"generation\"])\n",
    "\n",
    "    le7 = LabelEncoder()\n",
    "    dataframe[\"legendary\"] = le7.fit_transform(dataframe[\"legendary\"])\n",
    "\n",
    "    le11 = LabelEncoder()\n",
    "    resultframe[\"favorite\"] = le11.fit_transform(resultframe[\"favorite\"])\n",
    "\n",
    "    # Use of decision tree classifiers\n",
    "    dtc = tree.DecisionTreeClassifier()\n",
    "    dtc = dtc.fit(dataframe.values, resultframe)\n",
    "\n",
    "   \n",
    "    ohcestbonla = 0\n",
    "    avis = \"Non favori\"\n",
    "    while avis == \"Non favori\" and ohcestbonla < 2000:\n",
    "        try:\n",
    "            (tags, image, imagename) = random_image_and_tags()\n",
    "\n",
    "            # prediction\n",
    "            prediction = dtc.predict(\n",
    "                [\n",
    "                    [\n",
    "                        le1.transform([tags[0]])[0],\n",
    "                        le5.transform([tags[1]])[0],\n",
    "                        le6.transform([tags[2]])[0],\n",
    "                        le7.transform([tags[3]])[0],\n",
    "                    ]\n",
    "                ]\n",
    "            )\n",
    "            avis = le11.inverse_transform(prediction)\n",
    "            if imagename in dictionnaire_preferences[username][2]:\n",
    "                avis = \"Non favori\"\n",
    "            ohcestbonla += 1\n",
    "        except:\n",
    "            pass\n",
    "    if ohcestbonla >= 2000:\n",
    "        print(\"Pas d'image favorite trouvée :o\")\n",
    "    else:\n",
    "        plot.imshow(image)\n",
    "        plot.show()\n",
    "        print(\"Do you like this image ? (y/n)\")\n",
    "        reponse = input()\n",
    "        if reponse == \"y\":\n",
    "            dictionnaire_preferences[username][0].append(tags)\n",
    "            dictionnaire_preferences[username][1].append(\"Favori\")\n",
    "            dictionnaire_preferences[username][2].append(imagename)  "
   ]
  },
  {
   "cell_type": "code",
   "execution_count": 14,
   "id": "a7466b9c",
   "metadata": {},
   "outputs": [],
   "source": [
    "########## permet de montrer les images preferes d'un utilisateur ainsi que leurs informations##########\n",
    "def get_user_info(username):\n",
    "    for i in range(len(dictionnaire_preferences[username][0])):\n",
    "        path = os.path.join(\"ImagesPokemonUNZIPPED/images/images/\", dictionnaire_preferences[username][2][i])\n",
    "        image = Image.open(path)\n",
    "        plot.imshow(image)\n",
    "        plot.show()\n",
    "        print(dictionnaire_preferences[username][0][i], dictionnaire_preferences[username][1][i])\n",
    "        if input(\"voulez vous voir l'image suivante (y/n)\") != \"y\":\n",
    "            break"
   ]
  },
  {
   "cell_type": "code",
   "execution_count": 15,
   "id": "47726ffb",
   "metadata": {},
   "outputs": [],
   "source": [
    "########## Création des comptes utilisateurs et leur propose des images et/ou affiche leurs information ##########\n",
    "\n",
    "def generate_user_preferences():\n",
    "    username = input(\"Rentrez votre nom d'utilisateur : \")\n",
    "    if username in dictionnaire_preferences:\n",
    "        print(\"Vous avez déjà un compte\")\n",
    "        if input(\"Voulez vous voir vos informations? (y/n)\") == \"y\":\n",
    "            get_user_info(username)\n",
    "        if input(\"Voulez vous voir une image favorite? (y/n)\") == \"y\":\n",
    "            generate_favorite_image(username)\n",
    "    else:\n",
    "        liste_tags, liste_fav_or_not, liste_chemins_fav = generate_preferences()\n",
    "        dictionnaire_preferences[username] = [liste_tags, liste_fav_or_not, liste_chemins_fav]\n",
    "        print(\"Votre compte a bien été créé\")"
   ]
  },
  {
   "cell_type": "code",
   "execution_count": 16,
   "id": "82d344a2",
   "metadata": {},
   "outputs": [],
   "source": [
    "########## Fonction d'initialisation ###########\n",
    "def initialiation():\n",
    "    convert_P_to_RGBA()\n",
    "    write_json(\"pokemonjson.json\", get_infos_JSON())"
   ]
  },
  {
   "cell_type": "code",
   "execution_count": 17,
   "id": "dd682e8b",
   "metadata": {},
   "outputs": [
    {
     "name": "stdout",
     "output_type": "stream",
     "text": [
      "Vous avez déjà un compte\n"
     ]
    },
    {
     "data": {
      "image/png": "[encoded data removed]",
      "text/plain": [
       "<Figure size 640x480 with 1 Axes>"
      ]
     },
     "metadata": {},
     "output_type": "display_data"
    },
    {
     "name": "stdout",
     "output_type": "stream",
     "text": [
      "['antiquewhite', 'Normal', 3.0, 0.0] Favori\n"
     ]
    },
    {
     "data": {
      "image/png": "[encoded data removed]",
      "text/plain": [
       "<Figure size 640x480 with 1 Axes>"
      ]
     },
     "metadata": {},
     "output_type": "display_data"
    },
    {
     "name": "stdout",
     "output_type": "stream",
     "text": [
      "['darksalmon', 'Fire', 1.0, 0.0] Favori\n"
     ]
    },
    {
     "data": {
      "image/png": "[encoded data removed]",
      "text/plain": [
       "<Figure size 640x480 with 1 Axes>"
      ]
     },
     "metadata": {},
     "output_type": "display_data"
    },
    {
     "name": "stdout",
     "output_type": "stream",
     "text": [
      "['cadetblue', 'Flying', 6.0, 0.0] Favori\n"
     ]
    },
    {
     "data": {
      "image/png": "[encoded data removed]",
      "text/plain": [
       "<Figure size 640x480 with 1 Axes>"
      ]
     },
     "metadata": {},
     "output_type": "display_data"
    },
    {
     "name": "stdout",
     "output_type": "stream",
     "text": [
      "['darkslategray', 'Ghost', 5.0, 0.0] Favori\n"
     ]
    }
   ],
   "source": [
    "########## Génération d'une image favorite (enfin on essaie) ##########\n",
    "\n",
    "def main():\n",
    "    initialiation()\n",
    "    boule = True\n",
    "    while(boule):\n",
    "        generate_user_preferences()\n",
    "        clear_output(wait=True)\n",
    "        if input(\"Voulez vous continuer ? (y/n)\") == \"y\":\n",
    "            boule = True\n",
    "        else:\n",
    "            boule = False\n",
    "\n",
    "########lancement ########\n",
    "main()"
   ]
  }
 ],
 "metadata": {
  "kernelspec": {
   "display_name": "Python 3",
   "language": "python",
   "name": "python3"
  },
  "language_info": {
   "codemirror_mode": {
    "name": "ipython",
    "version": 3
   },
   "file_extension": ".py",
   "mimetype": "text/x-python",
   "name": "python",
   "nbconvert_exporter": "python",
   "pygments_lexer": "ipython3",
   "version": "3.10.9"
  },
  "vscode": {
   "interpreter": {
    "hash": "5c7b89af1651d0b8571dde13640ecdccf7d5a6204171d6ab33e7c296e100e08a"
   }
  }
 },
 "nbformat": 4,
 "nbformat_minor": 5
}
